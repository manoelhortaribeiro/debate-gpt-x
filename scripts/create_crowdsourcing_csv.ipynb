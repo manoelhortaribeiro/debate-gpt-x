{
 "cells": [
  {
   "cell_type": "code",
   "execution_count": 2,
   "metadata": {},
   "outputs": [],
   "source": [
    "import pandas as pd\n",
    "import json\n",
    "import numpy as np\n",
    "import tiktoken"
   ]
  },
  {
   "cell_type": "code",
   "execution_count": 3,
   "metadata": {},
   "outputs": [
    {
     "name": "stderr",
     "output_type": "stream",
     "text": [
      "/var/folders/66/8hwzrhz53jj8pfx2xyw__nt00000gn/T/ipykernel_81167/2260626712.py:3: FutureWarning: The behavior of 'to_datetime' with 'unit' when parsing strings is deprecated. In a future version, strings will be parsed as datetime strings, matching the behavior without a 'unit'. To retain the old behavior, explicitly cast ints or floats to numeric type before calling to_datetime.\n",
      "  users_df = pd.read_json(\"../data/processed_data/users_df.json\")\n",
      "/var/folders/66/8hwzrhz53jj8pfx2xyw__nt00000gn/T/ipykernel_81167/2260626712.py:3: FutureWarning: The behavior of 'to_datetime' with 'unit' when parsing strings is deprecated. In a future version, strings will be parsed as datetime strings, matching the behavior without a 'unit'. To retain the old behavior, explicitly cast ints or floats to numeric type before calling to_datetime.\n",
      "  users_df = pd.read_json(\"../data/processed_data/users_df.json\")\n",
      "/var/folders/66/8hwzrhz53jj8pfx2xyw__nt00000gn/T/ipykernel_81167/2260626712.py:3: FutureWarning: The behavior of 'to_datetime' with 'unit' when parsing strings is deprecated. In a future version, strings will be parsed as datetime strings, matching the behavior without a 'unit'. To retain the old behavior, explicitly cast ints or floats to numeric type before calling to_datetime.\n",
      "  users_df = pd.read_json(\"../data/processed_data/users_df.json\")\n"
     ]
    }
   ],
   "source": [
    "debates_df = pd.read_json(\"../data/filtered_data/debates_titles.json\")\n",
    "rounds_df = pd.read_json(\"../data/processed_data/rounds_df.json\")\n",
    "users_df = pd.read_json(\"../data/processed_data/users_df.json\")\n",
    "votes_df = pd.read_json(\"../data/filtered_data/votes_filtered_df.json\")"
   ]
  },
  {
   "cell_type": "code",
   "execution_count": 3,
   "metadata": {},
   "outputs": [],
   "source": [
    "demographic_columns = [\n",
    "    \"birthday\",\n",
    "    \"education\",\n",
    "    \"ethnicity\",\n",
    "    \"gender\",\n",
    "    \"income\",\n",
    "    \"party\",\n",
    "    \"political_ideology\",\n",
    "    \"religious_ideology\",\n",
    "]"
   ]
  },
  {
   "cell_type": "code",
   "execution_count": 4,
   "metadata": {},
   "outputs": [],
   "source": [
    "def get_debate(rounds_df, debate_id: int) -> str:\n",
    "    \"\"\"Return the debate with id `debate_id`.\n",
    "\n",
    "    The format of the debate is as follows:\n",
    "    {Round 0: {\n",
    "        Pro: pro argument,\n",
    "        Con: con argument,\n",
    "        },\n",
    "     Round 1: {\n",
    "        Pro: pro argument,\n",
    "        Con: con argument,\n",
    "        },\n",
    "     etc.\n",
    "    }\n",
    "    \"\"\"\n",
    "    rounds = {}\n",
    "    debate_df = rounds_df[rounds_df.debate_id == debate_id]\n",
    "\n",
    "    for _, row in debate_df.iterrows():\n",
    "        round_key = f\"Round {row['round']}\"\n",
    "        if round_key in rounds.keys():\n",
    "            old_dict = rounds[round_key]\n",
    "            old_dict[row.side] = row.text\n",
    "            rounds[round_key] = old_dict\n",
    "        else:\n",
    "            rounds[round_key] = {row.side: row.text}\n",
    "\n",
    "    debate = str(json.dumps(rounds))\n",
    "    return debate\n",
    "\n",
    "\n",
    "def get_user_info(\n",
    "    users_df: pd.DataFrame, voter_id: str, demographic_columns: list[str]\n",
    ") -> str:\n",
    "    \"\"\"Return a string containing all the demographic information of user `voter_id`\n",
    "    in the following format: Label: Value, Label: Value\n",
    "    \"\"\"\n",
    "    voter_info = users_df.loc[voter_id][demographic_columns]\n",
    "    voter_info = voter_info[~voter_info.isna()]\n",
    "    voter_info = [\n",
    "        col.replace(\"_\", \" \").title() + \": \" + voter_info[col]\n",
    "        for col in voter_info.index\n",
    "    ]\n",
    "\n",
    "    return \"\\n\".join(voter_info)"
   ]
  },
  {
   "cell_type": "code",
   "execution_count": 5,
   "metadata": {},
   "outputs": [],
   "source": [
    "debates_df = debates_df[\n",
    "    ~((debates_df.proposition == \"drop\") | (debates_df.proposition == \"skip\"))\n",
    "]\n",
    "debates_df[\"debate\"] = debates_df.apply(\n",
    "    lambda x: get_debate(rounds_df, x.debate_id), axis=1\n",
    ")\n",
    "debates_df[\"word_count\"] = debates_df.apply(\n",
    "    lambda x: len(tiktoken.encoding_for_model(\"gpt-3.5-turbo\").encode(x.debate))\n",
    "    * (750 / 1000),\n",
    "    axis=1,\n",
    ")\n",
    "debates_df = debates_df[debates_df[\"word_count\"] <= 1500]"
   ]
  },
  {
   "cell_type": "code",
   "execution_count": 6,
   "metadata": {},
   "outputs": [],
   "source": [
    "df = debates_df.merge(votes_df)\n",
    "df[\"user_info\"] = df.apply(\n",
    "    lambda x: get_user_info(users_df, x.voter_id, demographic_columns), axis=1\n",
    ")"
   ]
  },
  {
   "cell_type": "code",
   "execution_count": 7,
   "metadata": {},
   "outputs": [],
   "source": [
    "df = df[[\"debate_id\", \"voter_id\", \"proposition\", \"debate\", \"user_info\"]]"
   ]
  },
  {
   "cell_type": "code",
   "execution_count": 15,
   "metadata": {},
   "outputs": [
    {
     "data": {
      "text/plain": [
       "118"
      ]
     },
     "execution_count": 15,
     "metadata": {},
     "output_type": "execute_result"
    }
   ],
   "source": [
    "df.debate_id.nunique()"
   ]
  },
  {
   "cell_type": "code",
   "execution_count": 8,
   "metadata": {},
   "outputs": [],
   "source": [
    "df.to_csv(\"../data/processed_data/crowdsourcing_full.csv\")"
   ]
  },
  {
   "cell_type": "code",
   "execution_count": 9,
   "metadata": {},
   "outputs": [
    {
     "data": {
      "text/plain": [
       "array([ 1289,  1382,  1453,  1548,  1805,  1826,  1897,  1911,  2072,\n",
       "        2407,  3529, 27538,  1609])"
      ]
     },
     "execution_count": 9,
     "metadata": {},
     "output_type": "execute_result"
    }
   ],
   "source": [
    "abortion_debates = df[df.proposition.str.lower().str.contains(\"abortion\")]\n",
    "abortion_debate_ids = abortion_debates.debate_id.unique()\n",
    "abortion_debate_ids"
   ]
  },
  {
   "cell_type": "code",
   "execution_count": 10,
   "metadata": {},
   "outputs": [],
   "source": [
    "debate_ids = df.debate_id.unique()\n",
    "non_abortion_ids = [idx for idx in debate_ids if idx not in abortion_debate_ids]"
   ]
  },
  {
   "cell_type": "code",
   "execution_count": 11,
   "metadata": {},
   "outputs": [],
   "source": [
    "num_samples = 40\n",
    "num_to_select = num_samples - len(abortion_debate_ids)\n",
    "selected_ids = list(np.random.choice(non_abortion_ids, num_to_select)) + list(\n",
    "    abortion_debate_ids\n",
    ")"
   ]
  },
  {
   "cell_type": "code",
   "execution_count": 13,
   "metadata": {},
   "outputs": [
    {
     "data": {
      "text/plain": [
       "27"
      ]
     },
     "execution_count": 13,
     "metadata": {},
     "output_type": "execute_result"
    }
   ],
   "source": [
    "num_to_select"
   ]
  },
  {
   "cell_type": "code",
   "execution_count": 12,
   "metadata": {},
   "outputs": [],
   "source": [
    "df[df.debate_id.isin(selected_ids)].groupby(\"debate_id\").sample(1).reset_index().to_csv(\n",
    "    \"../data/processed_data/crowdsourcing_sample.csv\"\n",
    ")"
   ]
  }
 ],
 "metadata": {
  "kernelspec": {
   "display_name": "dlab",
   "language": "python",
   "name": "python3"
  },
  "language_info": {
   "codemirror_mode": {
    "name": "ipython",
    "version": 3
   },
   "file_extension": ".py",
   "mimetype": "text/x-python",
   "name": "python",
   "nbconvert_exporter": "python",
   "pygments_lexer": "ipython3",
   "version": "3.11.5"
  }
 },
 "nbformat": 4,
 "nbformat_minor": 2
}
